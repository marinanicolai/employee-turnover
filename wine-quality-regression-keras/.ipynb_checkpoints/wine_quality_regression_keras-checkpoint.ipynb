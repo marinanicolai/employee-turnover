{
 "cells": [
  {
   "cell_type": "code",
   "execution_count": null,
   "id": "dc2da02a",
   "metadata": {
    "vscode": {
     "languageId": "plaintext"
    }
   },
   "outputs": [],
   "source": [
    "# Load wine dataset\n",
    "import pandas as pd\n",
    "from sklearn.model_selection import train_test_split\n",
    "from sklearn.preprocessing import StandardScaler\n",
    "from tensorflow.keras.models import Sequential\n",
    "from tensorflow.keras.layers import Dense\n",
    "from tensorflow.keras.optimizers import Adam\n",
    "from tensorflow.keras import Input\n",
    "import matplotlib.pyplot as plt\n",
    "\n",
    "df = pd.read_csv(\"https://archive.ics.uci.edu/ml/machine-learning-databases/wine-quality/winequality-red.csv\", sep=';')\n",
    "\n",
    "X = df.drop('quality', axis=1).values\n",
    "y = df['quality'].values"
   ]
  },
  {
   "cell_type": "markdown",
   "id": "1fb91795-3c83-4db6-837e-4bdaed4946a8",
   "metadata": {},
   "source": [
    "\n",
    "Use the Wine Quality dataset (starting code provided) to predict wine quality score (0–10) using a regression neural network in Keras.\n"
   ]
  },
  {
   "cell_type": "markdown",
   "id": "b2c69061",
   "metadata": {},
   "source": [
    "\n",
    "Normalize/Standardize the features\n"
   ]
  },
  {
   "cell_type": "code",
   "execution_count": null,
   "id": "001ccb57-3211-495b-b223-51297f841b01",
   "metadata": {},
   "outputs": [],
   "source": [
    "scaler = StandardScaler()\n",
    "X_scaled = scaler.fit_transform(X)"
   ]
  },
  {
   "cell_type": "markdown",
   "id": "27fe5129",
   "metadata": {},
   "source": [
    "\n",
    "Use 2 hidden layers (suggested: ReLU)\n"
   ]
  },
  {
   "cell_type": "code",
   "execution_count": null,
   "id": "6ed1d131-6ac0-4455-b7ba-81989e3e6918",
   "metadata": {},
   "outputs": [],
   "source": [
    "X_train, X_test, y_train, y_test = train_test_split(X_scaled, y, test_size=0.2, random_state=42)\n",
    "\n",
    "model = Sequential([\n",
    "    Dense(64, activation='relu', input_shape=(X_train.shape[1],)),\n",
    "    Dense(32, activation='relu'),\n",
    "    Dense(1)  # Regression output (no activation)\n",
    "])\n"
   ]
  },
  {
   "cell_type": "markdown",
   "id": "139a6b34",
   "metadata": {},
   "source": [
    "\n",
    "Compile with mse loss and metrics mae, mse\n"
   ]
  },
  {
   "cell_type": "code",
   "execution_count": null,
   "id": "64866a3d-a89c-4384-90da-e2f446f09812",
   "metadata": {},
   "outputs": [],
   "source": [
    "model.compile(\n",
    "    optimizer=Adam(),\n",
    "    loss='mse',\n",
    "    metrics=['mae', 'mse']\n",
    ")"
   ]
  },
  {
   "cell_type": "markdown",
   "id": "0679736f",
   "metadata": {},
   "source": [
    "Train 30 epochs with a batch size of 32\n"
   ]
  },
  {
   "cell_type": "code",
   "execution_count": null,
   "id": "6b370761-fa77-43d6-9af4-95e422e5de7c",
   "metadata": {},
   "outputs": [],
   "source": [
    "history = model.fit(\n",
    "    X_train, y_train,\n",
    "    validation_split=0.2,\n",
    "    epochs=30,\n",
    "    batch_size=32,\n",
    "    verbose=1\n",
    ")"
   ]
  },
  {
   "cell_type": "markdown",
   "id": "72952485",
   "metadata": {},
   "source": [
    "Plot train vs val MAE\n"
   ]
  },
  {
   "cell_type": "code",
   "execution_count": null,
   "id": "e5a49388-33c4-41b8-9c0a-34fc1f0358b2",
   "metadata": {},
   "outputs": [],
   "source": [
    "plt.figure(figsize=(8, 5))\n",
    "plt.plot(history.history['mae'], label='Train MAE')\n",
    "plt.plot(history.history['val_mae'], label='Val MAE')\n",
    "plt.title(\"Train vs Validation MAE\")\n",
    "plt.xlabel(\"Epoch\")\n",
    "plt.ylabel(\"MAE\")\n",
    "plt.legend()\n",
    "plt.grid(True)\n",
    "plt.show()"
   ]
  },
  {
   "cell_type": "markdown",
   "id": "53e72ec9",
   "metadata": {},
   "source": [
    "Report final test MAE"
   ]
  },
  {
   "cell_type": "code",
   "execution_count": null,
   "id": "78f3cd60-31bf-4e05-820d-bcde7ad112f3",
   "metadata": {},
   "outputs": [],
   "source": [
    "test_loss, test_mae, test_mse = model.evaluate(X_test, y_test, verbose=0)\n",
    "print(f\"📊 Final Test MAE: {test_mae:.3f}\")"
   ]
  }
 ],
 "metadata": {
  "kernelspec": {
   "display_name": "Python (base)",
   "language": "python",
   "name": "base"
  },
  "language_info": {
   "codemirror_mode": {
    "name": "ipython",
    "version": 3
   },
   "file_extension": ".py",
   "mimetype": "text/x-python",
   "name": "python",
   "nbconvert_exporter": "python",
   "pygments_lexer": "ipython3",
   "version": "3.12.2"
  }
 },
 "nbformat": 4,
 "nbformat_minor": 5
}
