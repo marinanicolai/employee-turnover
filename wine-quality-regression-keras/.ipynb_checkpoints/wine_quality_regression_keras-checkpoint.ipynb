{
 "cells": [
  {
   "cell_type": "code",
   "execution_count": 15,
   "id": "dc2da02a",
   "metadata": {
    "vscode": {
     "languageId": "plaintext"
    }
   },
   "outputs": [],
   "source": [
    "# Load wine dataset\n",
    "import pandas as pd\n",
    "from sklearn.model_selection import train_test_split\n",
    "from sklearn.preprocessing import StandardScaler\n",
    "from tensorflow.keras.models import Sequential\n",
    "from tensorflow.keras.layers import Dense\n",
    "from tensorflow.keras.optimizers import Adam\n",
    "from tensorflow.keras import Input\n",
    "import matplotlib.pyplot as plt\n",
    "\n",
    "df = pd.read_csv(\"https://archive.ics.uci.edu/ml/machine-learning-databases/wine-quality/winequality-red.csv\", sep=';')\n",
    "\n",
    "X = df.drop('quality', axis=1).values\n",
    "y = df['quality'].values"
   ]
  },
  {
   "cell_type": "markdown",
   "id": "1fb91795-3c83-4db6-837e-4bdaed4946a8",
   "metadata": {},
   "source": [
    "\n",
    "Use the Wine Quality dataset (starting code provided) to predict wine quality score (0–10) using a regression neural network in Keras.\n"
   ]
  },
  {
   "cell_type": "markdown",
   "id": "b2c69061",
   "metadata": {},
   "source": [
    "\n",
    "Normalize/Standardize the features\n"
   ]
  },
  {
   "cell_type": "code",
   "execution_count": 18,
   "id": "001ccb57-3211-495b-b223-51297f841b01",
   "metadata": {},
   "outputs": [],
   "source": [
    "scaler = StandardScaler()\n",
    "X_scaled = scaler.fit_transform(X)"
   ]
  },
  {
   "cell_type": "markdown",
   "id": "27fe5129",
   "metadata": {},
   "source": [
    "\n",
    "Use 2 hidden layers (suggested: ReLU)\n"
   ]
  },
  {
   "cell_type": "code",
   "execution_count": 24,
   "id": "6ed1d131-6ac0-4455-b7ba-81989e3e6918",
   "metadata": {},
   "outputs": [
    {
     "name": "stderr",
     "output_type": "stream",
     "text": [
      "/opt/anaconda3/lib/python3.12/site-packages/keras/src/layers/core/dense.py:87: UserWarning: Do not pass an `input_shape`/`input_dim` argument to a layer. When using Sequential models, prefer using an `Input(shape)` object as the first layer in the model instead.\n",
      "  super().__init__(activity_regularizer=activity_regularizer, **kwargs)\n"
     ]
    }
   ],
   "source": [
    "X_train, X_test, y_train, y_test = train_test_split(X_scaled, y, test_size=0.2, random_state=42)\n",
    "\n",
    "model = Sequential([\n",
    "    Dense(64, activation='relu', input_shape=(X_train.shape[1],)),\n",
    "    Dense(32, activation='relu'),\n",
    "    Dense(1)  # Regression output (no activation)\n",
    "])\n"
   ]
  },
  {
   "cell_type": "markdown",
   "id": "139a6b34",
   "metadata": {},
   "source": [
    "\n",
    "Compile with mse loss and metrics mae, mse\n"
   ]
  },
  {
   "cell_type": "code",
   "execution_count": 29,
   "id": "64866a3d-a89c-4384-90da-e2f446f09812",
   "metadata": {},
   "outputs": [],
   "source": [
    "model.compile(\n",
    "    optimizer=Adam(),\n",
    "    loss='mse',\n",
    "    metrics=['mae', 'mse']\n",
    ")"
   ]
  },
  {
   "cell_type": "markdown",
   "id": "0679736f",
   "metadata": {},
   "source": [
    "Train 30 epochs with a batch size of 32\n"
   ]
  },
  {
   "cell_type": "code",
   "execution_count": 33,
   "id": "6b370761-fa77-43d6-9af4-95e422e5de7c",
   "metadata": {},
   "outputs": [
    {
     "name": "stdout",
     "output_type": "stream",
     "text": [
      "Epoch 1/30\n",
      "\u001b[1m32/32\u001b[0m \u001b[32m━━━━━━━━━━━━━━━━━━━━\u001b[0m\u001b[37m\u001b[0m \u001b[1m0s\u001b[0m 2ms/step - loss: 28.9573 - mae: 5.3030 - mse: 28.9573 - val_loss: 14.7746 - val_mae: 3.7053 - val_mse: 14.7746\n",
      "Epoch 2/30\n",
      "\u001b[1m32/32\u001b[0m \u001b[32m━━━━━━━━━━━━━━━━━━━━\u001b[0m\u001b[37m\u001b[0m \u001b[1m0s\u001b[0m 957us/step - loss: 11.4192 - mae: 3.1283 - mse: 11.4192 - val_loss: 3.5259 - val_mae: 1.5501 - val_mse: 3.5259\n",
      "Epoch 3/30\n",
      "\u001b[1m32/32\u001b[0m \u001b[32m━━━━━━━━━━━━━━━━━━━━\u001b[0m\u001b[37m\u001b[0m \u001b[1m0s\u001b[0m 1ms/step - loss: 3.6703 - mae: 1.5076 - mse: 3.6703 - val_loss: 2.4938 - val_mae: 1.2721 - val_mse: 2.4938\n",
      "Epoch 4/30\n",
      "\u001b[1m32/32\u001b[0m \u001b[32m━━━━━━━━━━━━━━━━━━━━\u001b[0m\u001b[37m\u001b[0m \u001b[1m0s\u001b[0m 969us/step - loss: 2.3338 - mae: 1.1906 - mse: 2.3338 - val_loss: 2.1558 - val_mae: 1.1784 - val_mse: 2.1558\n",
      "Epoch 5/30\n",
      "\u001b[1m32/32\u001b[0m \u001b[32m━━━━━━━━━━━━━━━━━━━━\u001b[0m\u001b[37m\u001b[0m \u001b[1m0s\u001b[0m 960us/step - loss: 1.9463 - mae: 1.1005 - mse: 1.9463 - val_loss: 1.9237 - val_mae: 1.1099 - val_mse: 1.9237\n",
      "Epoch 6/30\n",
      "\u001b[1m32/32\u001b[0m \u001b[32m━━━━━━━━━━━━━━━━━━━━\u001b[0m\u001b[37m\u001b[0m \u001b[1m0s\u001b[0m 934us/step - loss: 1.7733 - mae: 1.0499 - mse: 1.7733 - val_loss: 1.7541 - val_mae: 1.0532 - val_mse: 1.7541\n",
      "Epoch 7/30\n",
      "\u001b[1m32/32\u001b[0m \u001b[32m━━━━━━━━━━━━━━━━━━━━\u001b[0m\u001b[37m\u001b[0m \u001b[1m0s\u001b[0m 915us/step - loss: 1.5532 - mae: 0.9656 - mse: 1.5532 - val_loss: 1.5991 - val_mae: 1.0050 - val_mse: 1.5991\n",
      "Epoch 8/30\n",
      "\u001b[1m32/32\u001b[0m \u001b[32m━━━━━━━━━━━━━━━━━━━━\u001b[0m\u001b[37m\u001b[0m \u001b[1m0s\u001b[0m 962us/step - loss: 1.5308 - mae: 0.9716 - mse: 1.5308 - val_loss: 1.4904 - val_mae: 0.9706 - val_mse: 1.4904\n",
      "Epoch 9/30\n",
      "\u001b[1m32/32\u001b[0m \u001b[32m━━━━━━━━━━━━━━━━━━━━\u001b[0m\u001b[37m\u001b[0m \u001b[1m0s\u001b[0m 1ms/step - loss: 1.2892 - mae: 0.8859 - mse: 1.2892 - val_loss: 1.3604 - val_mae: 0.9210 - val_mse: 1.3604\n",
      "Epoch 10/30\n",
      "\u001b[1m32/32\u001b[0m \u001b[32m━━━━━━━━━━━━━━━━━━━━\u001b[0m\u001b[37m\u001b[0m \u001b[1m0s\u001b[0m 965us/step - loss: 1.3075 - mae: 0.8963 - mse: 1.3075 - val_loss: 1.2462 - val_mae: 0.8801 - val_mse: 1.2462\n",
      "Epoch 11/30\n",
      "\u001b[1m32/32\u001b[0m \u001b[32m━━━━━━━━━━━━━━━━━━━━\u001b[0m\u001b[37m\u001b[0m \u001b[1m0s\u001b[0m 964us/step - loss: 1.1076 - mae: 0.8221 - mse: 1.1076 - val_loss: 1.1448 - val_mae: 0.8426 - val_mse: 1.1448\n",
      "Epoch 12/30\n",
      "\u001b[1m32/32\u001b[0m \u001b[32m━━━━━━━━━━━━━━━━━━━━\u001b[0m\u001b[37m\u001b[0m \u001b[1m0s\u001b[0m 939us/step - loss: 1.0843 - mae: 0.8276 - mse: 1.0843 - val_loss: 1.0686 - val_mae: 0.8104 - val_mse: 1.0686\n",
      "Epoch 13/30\n",
      "\u001b[1m32/32\u001b[0m \u001b[32m━━━━━━━━━━━━━━━━━━━━\u001b[0m\u001b[37m\u001b[0m \u001b[1m0s\u001b[0m 968us/step - loss: 0.9341 - mae: 0.7547 - mse: 0.9341 - val_loss: 0.9956 - val_mae: 0.7779 - val_mse: 0.9956\n",
      "Epoch 14/30\n",
      "\u001b[1m32/32\u001b[0m \u001b[32m━━━━━━━━━━━━━━━━━━━━\u001b[0m\u001b[37m\u001b[0m \u001b[1m0s\u001b[0m 964us/step - loss: 0.8860 - mae: 0.7342 - mse: 0.8860 - val_loss: 0.9376 - val_mae: 0.7536 - val_mse: 0.9376\n",
      "Epoch 15/30\n",
      "\u001b[1m32/32\u001b[0m \u001b[32m━━━━━━━━━━━━━━━━━━━━\u001b[0m\u001b[37m\u001b[0m \u001b[1m0s\u001b[0m 964us/step - loss: 0.9157 - mae: 0.7463 - mse: 0.9157 - val_loss: 0.8715 - val_mae: 0.7232 - val_mse: 0.8715\n",
      "Epoch 16/30\n",
      "\u001b[1m32/32\u001b[0m \u001b[32m━━━━━━━━━━━━━━━━━━━━\u001b[0m\u001b[37m\u001b[0m \u001b[1m0s\u001b[0m 962us/step - loss: 0.7348 - mae: 0.6684 - mse: 0.7348 - val_loss: 0.8276 - val_mae: 0.7042 - val_mse: 0.8276\n",
      "Epoch 17/30\n",
      "\u001b[1m32/32\u001b[0m \u001b[32m━━━━━━━━━━━━━━━━━━━━\u001b[0m\u001b[37m\u001b[0m \u001b[1m0s\u001b[0m 946us/step - loss: 0.6901 - mae: 0.6614 - mse: 0.6901 - val_loss: 0.7859 - val_mae: 0.6872 - val_mse: 0.7859\n",
      "Epoch 18/30\n",
      "\u001b[1m32/32\u001b[0m \u001b[32m━━━━━━━━━━━━━━━━━━━━\u001b[0m\u001b[37m\u001b[0m \u001b[1m0s\u001b[0m 978us/step - loss: 0.7054 - mae: 0.6558 - mse: 0.7054 - val_loss: 0.7591 - val_mae: 0.6633 - val_mse: 0.7591\n",
      "Epoch 19/30\n",
      "\u001b[1m32/32\u001b[0m \u001b[32m━━━━━━━━━━━━━━━━━━━━\u001b[0m\u001b[37m\u001b[0m \u001b[1m0s\u001b[0m 964us/step - loss: 0.6296 - mae: 0.6113 - mse: 0.6296 - val_loss: 0.7141 - val_mae: 0.6521 - val_mse: 0.7141\n",
      "Epoch 20/30\n",
      "\u001b[1m32/32\u001b[0m \u001b[32m━━━━━━━━━━━━━━━━━━━━\u001b[0m\u001b[37m\u001b[0m \u001b[1m0s\u001b[0m 2ms/step - loss: 0.5937 - mae: 0.6076 - mse: 0.5937 - val_loss: 0.6799 - val_mae: 0.6288 - val_mse: 0.6799\n",
      "Epoch 21/30\n",
      "\u001b[1m32/32\u001b[0m \u001b[32m━━━━━━━━━━━━━━━━━━━━\u001b[0m\u001b[37m\u001b[0m \u001b[1m0s\u001b[0m 1ms/step - loss: 0.5376 - mae: 0.5739 - mse: 0.5376 - val_loss: 0.6562 - val_mae: 0.6208 - val_mse: 0.6562\n",
      "Epoch 22/30\n",
      "\u001b[1m32/32\u001b[0m \u001b[32m━━━━━━━━━━━━━━━━━━━━\u001b[0m\u001b[37m\u001b[0m \u001b[1m0s\u001b[0m 988us/step - loss: 0.5234 - mae: 0.5690 - mse: 0.5234 - val_loss: 0.6309 - val_mae: 0.6085 - val_mse: 0.6309\n",
      "Epoch 23/30\n",
      "\u001b[1m32/32\u001b[0m \u001b[32m━━━━━━━━━━━━━━━━━━━━\u001b[0m\u001b[37m\u001b[0m \u001b[1m0s\u001b[0m 968us/step - loss: 0.4812 - mae: 0.5429 - mse: 0.4812 - val_loss: 0.6193 - val_mae: 0.5997 - val_mse: 0.6193\n",
      "Epoch 24/30\n",
      "\u001b[1m32/32\u001b[0m \u001b[32m━━━━━━━━━━━━━━━━━━━━\u001b[0m\u001b[37m\u001b[0m \u001b[1m0s\u001b[0m 965us/step - loss: 0.5139 - mae: 0.5700 - mse: 0.5139 - val_loss: 0.5898 - val_mae: 0.5883 - val_mse: 0.5898\n",
      "Epoch 25/30\n",
      "\u001b[1m32/32\u001b[0m \u001b[32m━━━━━━━━━━━━━━━━━━━━\u001b[0m\u001b[37m\u001b[0m \u001b[1m0s\u001b[0m 970us/step - loss: 0.5054 - mae: 0.5648 - mse: 0.5054 - val_loss: 0.5711 - val_mae: 0.5750 - val_mse: 0.5711\n",
      "Epoch 26/30\n",
      "\u001b[1m32/32\u001b[0m \u001b[32m━━━━━━━━━━━━━━━━━━━━\u001b[0m\u001b[37m\u001b[0m \u001b[1m0s\u001b[0m 974us/step - loss: 0.4606 - mae: 0.5384 - mse: 0.4606 - val_loss: 0.5525 - val_mae: 0.5656 - val_mse: 0.5525\n",
      "Epoch 27/30\n",
      "\u001b[1m32/32\u001b[0m \u001b[32m━━━━━━━━━━━━━━━━━━━━\u001b[0m\u001b[37m\u001b[0m \u001b[1m0s\u001b[0m 964us/step - loss: 0.4660 - mae: 0.5430 - mse: 0.4660 - val_loss: 0.5417 - val_mae: 0.5566 - val_mse: 0.5417\n",
      "Epoch 28/30\n",
      "\u001b[1m32/32\u001b[0m \u001b[32m━━━━━━━━━━━━━━━━━━━━\u001b[0m\u001b[37m\u001b[0m \u001b[1m0s\u001b[0m 1ms/step - loss: 0.4327 - mae: 0.5125 - mse: 0.4327 - val_loss: 0.5203 - val_mae: 0.5551 - val_mse: 0.5203\n",
      "Epoch 29/30\n",
      "\u001b[1m32/32\u001b[0m \u001b[32m━━━━━━━━━━━━━━━━━━━━\u001b[0m\u001b[37m\u001b[0m \u001b[1m0s\u001b[0m 977us/step - loss: 0.4287 - mae: 0.5051 - mse: 0.4287 - val_loss: 0.5076 - val_mae: 0.5474 - val_mse: 0.5076\n",
      "Epoch 30/30\n",
      "\u001b[1m32/32\u001b[0m \u001b[32m━━━━━━━━━━━━━━━━━━━━\u001b[0m\u001b[37m\u001b[0m \u001b[1m0s\u001b[0m 972us/step - loss: 0.3940 - mae: 0.4983 - mse: 0.3940 - val_loss: 0.5222 - val_mae: 0.5477 - val_mse: 0.5222\n"
     ]
    }
   ],
   "source": [
    "history = model.fit(\n",
    "    X_train, y_train,\n",
    "    validation_split=0.2,\n",
    "    epochs=30,\n",
    "    batch_size=32,\n",
    "    verbose=1\n",
    ")"
   ]
  },
  {
   "cell_type": "markdown",
   "id": "72952485",
   "metadata": {},
   "source": [
    "Plot train vs val MAE\n"
   ]
  },
  {
   "cell_type": "code",
   "execution_count": 36,
   "id": "e5a49388-33c4-41b8-9c0a-34fc1f0358b2",
   "metadata": {},
   "outputs": [
    {
     "data": {
      "image/png": "[encoded data removed]",
      "text/plain": [
       "<Figure size 800x500 with 1 Axes>"
      ]
     },
     "metadata": {},
     "output_type": "display_data"
    }
   ],
   "source": [
    "plt.figure(figsize=(8, 5))\n",
    "plt.plot(history.history['mae'], label='Train MAE')\n",
    "plt.plot(history.history['val_mae'], label='Val MAE')\n",
    "plt.title(\"Train vs Validation MAE\")\n",
    "plt.xlabel(\"Epoch\")\n",
    "plt.ylabel(\"MAE\")\n",
    "plt.legend()\n",
    "plt.grid(True)\n",
    "plt.show()"
   ]
  },
  {
   "cell_type": "markdown",
   "id": "53e72ec9",
   "metadata": {},
   "source": [
    "Report final test MAE"
   ]
  },
  {
   "cell_type": "code",
   "execution_count": 39,
   "id": "78f3cd60-31bf-4e05-820d-bcde7ad112f3",
   "metadata": {},
   "outputs": [
    {
     "name": "stdout",
     "output_type": "stream",
     "text": [
      "📊 Final Test MAE: 0.550\n"
     ]
    }
   ],
   "source": [
    "test_loss, test_mae, test_mse = model.evaluate(X_test, y_test, verbose=0)\n",
    "print(f\"📊 Final Test MAE: {test_mae:.3f}\")"
   ]
  },
  {
   "cell_type": "code",
   "execution_count": null,
   "id": "6c805e24-576f-443b-81d0-f678756ed49f",
   "metadata": {},
   "outputs": [],
   "source": []
  }
 ],
 "metadata": {
  "kernelspec": {
   "display_name": "Python (base)",
   "language": "python",
   "name": "base"
  },
  "language_info": {
   "codemirror_mode": {
    "name": "ipython",
    "version": 3
   },
   "file_extension": ".py",
   "mimetype": "text/x-python",
   "name": "python",
   "nbconvert_exporter": "python",
   "pygments_lexer": "ipython3",
   "version": "3.12.2"
  }
 },
 "nbformat": 4,
 "nbformat_minor": 5
}
